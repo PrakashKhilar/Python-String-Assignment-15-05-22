{
 "cells": [
  {
   "cell_type": "markdown",
   "id": "46859224",
   "metadata": {},
   "source": [
    "# PYTHON STRING CLASS ASSIGNMENT: 15-05-2022"
   ]
  },
  {
   "cell_type": "code",
   "execution_count": 1,
   "id": "b3f08227",
   "metadata": {},
   "outputs": [],
   "source": [
    "# Question 1: Try to extract data from index one to index 300 with a jump of 3 "
   ]
  },
  {
   "cell_type": "code",
   "execution_count": 2,
   "id": "6e93cfdc",
   "metadata": {},
   "outputs": [],
   "source": [
    "s = \"this is My First Python programming class and i am learNING python string and its function\""
   ]
  },
  {
   "cell_type": "code",
   "execution_count": 3,
   "id": "41ba0b14",
   "metadata": {},
   "outputs": [
    {
     "data": {
      "text/plain": [
       "'ssyityopgmncsa alrNph rgni ni'"
      ]
     },
     "execution_count": 3,
     "metadata": {},
     "output_type": "execute_result"
    }
   ],
   "source": [
    "s[3:300:3]"
   ]
  },
  {
   "cell_type": "code",
   "execution_count": 4,
   "id": "1535bc54",
   "metadata": {},
   "outputs": [],
   "source": [
    "# Anser 1 : 'ssyityopgmncsa alrNph rgni ni'"
   ]
  },
  {
   "cell_type": "code",
   "execution_count": 8,
   "id": "e13995f1",
   "metadata": {},
   "outputs": [],
   "source": [
    "# Question 2: Try to reverse a string without using reverse function "
   ]
  },
  {
   "cell_type": "code",
   "execution_count": 9,
   "id": "46c242ea",
   "metadata": {},
   "outputs": [],
   "source": [
    "s = \"this is My First Python programming class and i am learNING python string and its function\""
   ]
  },
  {
   "cell_type": "code",
   "execution_count": 10,
   "id": "8fdca371",
   "metadata": {},
   "outputs": [
    {
     "data": {
      "text/plain": [
       "'noitcnuf sti dna gnirts nohtyp GNINrael ma i dna ssalc gnimmargorp nohtyP tsriF yM si siht'"
      ]
     },
     "execution_count": 10,
     "metadata": {},
     "output_type": "execute_result"
    }
   ],
   "source": [
    "s[::-1]"
   ]
  },
  {
   "cell_type": "code",
   "execution_count": 11,
   "id": "c940436d",
   "metadata": {},
   "outputs": [],
   "source": [
    "# Anser 2 : 'noitcnuf sti dna gnirts nohtyp GNINrael ma i dna ssalc gnimmargorp nohtyP tsriF yM si siht'"
   ]
  },
  {
   "cell_type": "code",
   "execution_count": 12,
   "id": "2877c2b6",
   "metadata": {},
   "outputs": [],
   "source": [
    "# Question 3: Try to split a string after conversion of entire string in uppercase "
   ]
  },
  {
   "cell_type": "code",
   "execution_count": 13,
   "id": "f4177812",
   "metadata": {},
   "outputs": [],
   "source": [
    "s = \"this is My First Python programming class and i am learNING python string and its function\""
   ]
  },
  {
   "cell_type": "code",
   "execution_count": 14,
   "id": "0b679830",
   "metadata": {},
   "outputs": [
    {
     "data": {
      "text/plain": [
       "'THIS IS MY FIRST PYTHON PROGRAMMING CLASS AND I AM LEARNING PYTHON STRING AND ITS FUNCTION'"
      ]
     },
     "execution_count": 14,
     "metadata": {},
     "output_type": "execute_result"
    }
   ],
   "source": [
    "s.upper()"
   ]
  },
  {
   "cell_type": "code",
   "execution_count": 20,
   "id": "99dfe5c8",
   "metadata": {},
   "outputs": [
    {
     "data": {
      "text/plain": [
       "['this',\n",
       " 'is',\n",
       " 'My',\n",
       " 'First',\n",
       " 'Python',\n",
       " 'programming',\n",
       " 'class',\n",
       " 'and',\n",
       " 'i',\n",
       " 'am',\n",
       " 'learNING',\n",
       " 'python',\n",
       " 'string',\n",
       " 'and',\n",
       " 'its',\n",
       " 'function']"
      ]
     },
     "execution_count": 20,
     "metadata": {},
     "output_type": "execute_result"
    }
   ],
   "source": [
    "s.split()"
   ]
  },
  {
   "cell_type": "code",
   "execution_count": 21,
   "id": "00e39234",
   "metadata": {},
   "outputs": [],
   "source": [
    "# Anser 3 : Please find the above"
   ]
  },
  {
   "cell_type": "code",
   "execution_count": 22,
   "id": "bca89b73",
   "metadata": {},
   "outputs": [],
   "source": [
    "# Question 4: try to convert the whole string into lower case "
   ]
  },
  {
   "cell_type": "code",
   "execution_count": 23,
   "id": "c5e2389e",
   "metadata": {},
   "outputs": [],
   "source": [
    "s = \"this is My First Python programming class and i am learNING python string and its function\""
   ]
  },
  {
   "cell_type": "code",
   "execution_count": 24,
   "id": "e8f1c84e",
   "metadata": {},
   "outputs": [
    {
     "data": {
      "text/plain": [
       "'this is my first python programming class and i am learning python string and its function'"
      ]
     },
     "execution_count": 24,
     "metadata": {},
     "output_type": "execute_result"
    }
   ],
   "source": [
    "s.lower()"
   ]
  },
  {
   "cell_type": "code",
   "execution_count": 25,
   "id": "f089a9a3",
   "metadata": {},
   "outputs": [],
   "source": [
    "# Answer 4 : 'this is my first python programming class and i am learning python string and its function'"
   ]
  },
  {
   "cell_type": "code",
   "execution_count": 26,
   "id": "3ddb36ae",
   "metadata": {},
   "outputs": [],
   "source": [
    "# Question 5:  Try to capitalize the whole string "
   ]
  },
  {
   "cell_type": "code",
   "execution_count": 28,
   "id": "5f0cee49",
   "metadata": {},
   "outputs": [],
   "source": [
    "s = \"this is My First Python programming class and i am learNING python string and its function\""
   ]
  },
  {
   "cell_type": "code",
   "execution_count": 29,
   "id": "5906f47a",
   "metadata": {
    "scrolled": true
   },
   "outputs": [
    {
     "data": {
      "text/plain": [
       "'This is my first python programming class and i am learning python string and its function'"
      ]
     },
     "execution_count": 29,
     "metadata": {},
     "output_type": "execute_result"
    }
   ],
   "source": [
    "s.capitalize()"
   ]
  },
  {
   "cell_type": "code",
   "execution_count": 30,
   "id": "8e79a4ab",
   "metadata": {},
   "outputs": [],
   "source": [
    "# Answer 5: 'This is my first python programming class and i am learning python string and its function'"
   ]
  },
  {
   "cell_type": "code",
   "execution_count": 31,
   "id": "3fbd60c3",
   "metadata": {},
   "outputs": [],
   "source": [
    "# Question 6: Write a diference between isalnum() and isalpha()"
   ]
  },
  {
   "cell_type": "code",
   "execution_count": 35,
   "id": "16fb8de8",
   "metadata": {},
   "outputs": [],
   "source": [
    "# Answer 6 is on below;\n",
    "\n",
    "# isalnum() : This inbuild Function of python Returns True if all characters in the string are alphanumeric\n",
    "# isalpha() : This inbuild Function of python Returns True if all characters in the string are in the alphabet  "
   ]
  },
  {
   "cell_type": "code",
   "execution_count": 39,
   "id": "4b3a276e",
   "metadata": {},
   "outputs": [],
   "source": [
    "s = \"this is My First Python programming class and i am learNING python string and its function\""
   ]
  },
  {
   "cell_type": "code",
   "execution_count": 40,
   "id": "331d0485",
   "metadata": {},
   "outputs": [
    {
     "data": {
      "text/plain": [
       "False"
      ]
     },
     "execution_count": 40,
     "metadata": {},
     "output_type": "execute_result"
    }
   ],
   "source": [
    "s.isalpha()"
   ]
  },
  {
   "cell_type": "code",
   "execution_count": 41,
   "id": "92939e05",
   "metadata": {},
   "outputs": [
    {
     "data": {
      "text/plain": [
       "False"
      ]
     },
     "execution_count": 41,
     "metadata": {},
     "output_type": "execute_result"
    }
   ],
   "source": [
    "s.isalnum()"
   ]
  },
  {
   "cell_type": "code",
   "execution_count": 42,
   "id": "0aa0bfea",
   "metadata": {},
   "outputs": [],
   "source": [
    "# Question 7 : Try to give an example of expand tab"
   ]
  },
  {
   "cell_type": "code",
   "execution_count": 46,
   "id": "db34c7ae",
   "metadata": {},
   "outputs": [],
   "source": [
    "# Answer  7 is on below;\n",
    "#string.expandtabs(space) --> It specifies the space that is to be replaced with the \"\\t\" symbol in the string. "
   ]
  },
  {
   "cell_type": "code",
   "execution_count": 48,
   "id": "19919e6c",
   "metadata": {},
   "outputs": [],
   "source": [
    "s = \"I\\tNeuron\""
   ]
  },
  {
   "cell_type": "code",
   "execution_count": 49,
   "id": "ec78f65d",
   "metadata": {},
   "outputs": [
    {
     "data": {
      "text/plain": [
       "'I       Neuron'"
      ]
     },
     "execution_count": 49,
     "metadata": {},
     "output_type": "execute_result"
    }
   ],
   "source": [
    "s.expandtabs()"
   ]
  },
  {
   "cell_type": "code",
   "execution_count": 50,
   "id": "d6b010a4",
   "metadata": {},
   "outputs": [
    {
     "data": {
      "text/plain": [
       "'I Neuron'"
      ]
     },
     "execution_count": 50,
     "metadata": {},
     "output_type": "execute_result"
    }
   ],
   "source": [
    "s.expandtabs(2)"
   ]
  },
  {
   "cell_type": "code",
   "execution_count": 51,
   "id": "4647b02f",
   "metadata": {},
   "outputs": [
    {
     "data": {
      "text/plain": [
       "'I Neuron'"
      ]
     },
     "execution_count": 51,
     "metadata": {},
     "output_type": "execute_result"
    }
   ],
   "source": [
    "s.expandtabs(1)"
   ]
  },
  {
   "cell_type": "code",
   "execution_count": 52,
   "id": "b6046264",
   "metadata": {},
   "outputs": [],
   "source": [
    "# Question 8 : Give an example of strip , lstrip and rstrip \n",
    "# Anser of point on below;"
   ]
  },
  {
   "cell_type": "code",
   "execution_count": 53,
   "id": "6285fe0c",
   "metadata": {},
   "outputs": [],
   "source": [
    "s = \" My second paython class \" "
   ]
  },
  {
   "cell_type": "code",
   "execution_count": 56,
   "id": "57a6682d",
   "metadata": {},
   "outputs": [],
   "source": [
    "# strip() --> Reomove the space form the space from the begining & end of the string. We can say, return the trimmed string."
   ]
  },
  {
   "cell_type": "code",
   "execution_count": 57,
   "id": "b800dd32",
   "metadata": {},
   "outputs": [
    {
     "data": {
      "text/plain": [
       "'My second paython class'"
      ]
     },
     "execution_count": 57,
     "metadata": {},
     "output_type": "execute_result"
    }
   ],
   "source": [
    "s.strip()"
   ]
  },
  {
   "cell_type": "code",
   "execution_count": 58,
   "id": "407384a2",
   "metadata": {},
   "outputs": [],
   "source": [
    "#lstrip() --> Remove the left space of from the begning of the string. We can say, it retuns the left trim of string."
   ]
  },
  {
   "cell_type": "code",
   "execution_count": 59,
   "id": "e681a697",
   "metadata": {},
   "outputs": [
    {
     "data": {
      "text/plain": [
       "'My second paython class '"
      ]
     },
     "execution_count": 59,
     "metadata": {},
     "output_type": "execute_result"
    }
   ],
   "source": [
    "s.lstrip()"
   ]
  },
  {
   "cell_type": "code",
   "execution_count": 60,
   "id": "2a289391",
   "metadata": {},
   "outputs": [],
   "source": [
    "#rstrip() --> Remove the left space of from the end of the string. We can say, it retuns the right trim of string."
   ]
  },
  {
   "cell_type": "code",
   "execution_count": 61,
   "id": "81082cda",
   "metadata": {},
   "outputs": [
    {
     "data": {
      "text/plain": [
       "' My second paython class'"
      ]
     },
     "execution_count": 61,
     "metadata": {},
     "output_type": "execute_result"
    }
   ],
   "source": [
    "s.rstrip()"
   ]
  },
  {
   "cell_type": "code",
   "execution_count": 62,
   "id": "a8fc8833",
   "metadata": {},
   "outputs": [],
   "source": [
    "# Question 9: Replace a string charecter by another charector by taking your own example \n",
    "#\"sudhanshu\""
   ]
  },
  {
   "cell_type": "code",
   "execution_count": 63,
   "id": "943bed76",
   "metadata": {},
   "outputs": [],
   "source": [
    "# Answer 9 on below;"
   ]
  },
  {
   "cell_type": "code",
   "execution_count": 64,
   "id": "d537fae7",
   "metadata": {},
   "outputs": [],
   "source": [
    "s = \"sudhanshu\""
   ]
  },
  {
   "cell_type": "code",
   "execution_count": 65,
   "id": "8bc1246f",
   "metadata": {},
   "outputs": [
    {
     "data": {
      "text/plain": [
       "'ineuron sudhanshu'"
      ]
     },
     "execution_count": 65,
     "metadata": {},
     "output_type": "execute_result"
    }
   ],
   "source": [
    "s.replace(\"sudhanshu\",\"ineuron sudhanshu\")"
   ]
  },
  {
   "cell_type": "code",
   "execution_count": 66,
   "id": "66b68e5c",
   "metadata": {},
   "outputs": [],
   "source": [
    "# Question 10 : Try  to give a defination of string center function with and exmple"
   ]
  },
  {
   "cell_type": "code",
   "execution_count": 67,
   "id": "d781c7f5",
   "metadata": {},
   "outputs": [],
   "source": [
    "# Anser 10 :  \n",
    "# In pythin the inbuild function, center() method Returns a string padded with specified fillchar and \n",
    "# it doesn’t modify the original string."
   ]
  },
  {
   "cell_type": "code",
   "execution_count": 68,
   "id": "b8f7e1b4",
   "metadata": {},
   "outputs": [],
   "source": [
    "s = 'ineuron'"
   ]
  },
  {
   "cell_type": "code",
   "execution_count": 69,
   "id": "1e016100",
   "metadata": {},
   "outputs": [
    {
     "data": {
      "text/plain": [
       "'      ineuron       '"
      ]
     },
     "execution_count": 69,
     "metadata": {},
     "output_type": "execute_result"
    }
   ],
   "source": [
    "s.center(20) # center() having two parameters ( length , filchar (optional))"
   ]
  },
  {
   "cell_type": "code",
   "execution_count": 80,
   "id": "e3d6de7e",
   "metadata": {},
   "outputs": [
    {
     "data": {
      "text/plain": [
       "'ppppppineuronppppppp'"
      ]
     },
     "execution_count": 80,
     "metadata": {},
     "output_type": "execute_result"
    }
   ],
   "source": [
    "s.center(20,'p')"
   ]
  },
  {
   "cell_type": "code",
   "execution_count": 81,
   "id": "536b8fd5",
   "metadata": {},
   "outputs": [],
   "source": [
    "# Question 11 : Write your own definition of compiler and interpretor without copy paste form internet in your own language"
   ]
  },
  {
   "cell_type": "code",
   "execution_count": 82,
   "id": "90dde8d3",
   "metadata": {},
   "outputs": [],
   "source": [
    "# Answer 11 :\n",
    "# Complier : A compiler will convert the code into machine code (create an exe) before program run.\n",
    "   # Source Code --> Compiler --> MAchine Code --> Output\n",
    "    \n",
    "# Interpreters : It convert code into machine code when the program is run\n",
    "   # source code --> Interpreter --> Output"
   ]
  },
  {
   "cell_type": "code",
   "execution_count": 83,
   "id": "c0d444ec",
   "metadata": {},
   "outputs": [],
   "source": [
    "# Question 12 : Python is a interpreted of compiled language give a clear ans with your understanding "
   ]
  },
  {
   "cell_type": "code",
   "execution_count": 84,
   "id": "42c13258",
   "metadata": {},
   "outputs": [],
   "source": [
    "# Answer 12: Below is my understanding on python is a interpreted of compiled language;\n",
    "\n",
    "# Suppose you are going to prepaire a recipe which is written on English. \n",
    "# If you know the English you can read and make the recipe then it this recipe is called as a COMPIED recipe.\n",
    "\n",
    "# But if you don't know english and one of your frien convert into your own langauge , then your friend became a interpreter \n",
    "# for you."
   ]
  },
  {
   "cell_type": "code",
   "execution_count": 85,
   "id": "0d544a50",
   "metadata": {},
   "outputs": [],
   "source": [
    "# Question 13:  Try to write a usecase of python with your understanding "
   ]
  },
  {
   "cell_type": "code",
   "execution_count": null,
   "id": "be34793b",
   "metadata": {},
   "outputs": [],
   "source": [
    "# Answer 13 : Please find the below usecse of python;\n",
    "\n",
    "# 1. Artificial Intelligence\n",
    "# AI is a major technology that uses Python in the realm of Machine Learning. \n",
    "# The libraries like TensorFlow and scikit-learn use Python with the major tasks like image recognition and content generation.\n",
    "# Python is used to work on the implementation of machine learning algorithms and enhancing user experience.\n",
    "\n",
    "# 2.Robotics\n",
    "# Pythan also used in Robotices.\n",
    "# Python uses the Raspberry Pi hardware platform for development that is not only affordable but flexible as well. \n",
    "# Robotic Process Automation can help to work on codes that can help in programming the behaviour of the machines.\n",
    "\n",
    "# 3. Data Analysis\n",
    "# Companies are now working on collecting data and analyse the major aspects that can help in running business smoothly.\n",
    "# Hence, Data Analyst uses Python skills because of the powerful libraries such as Pandas and NumPy that can help in data cleaning and analysing it.\n",
    "\n",
    "# 4. Web Development\n",
    "# Python is also used in web development with the help of major frameworks like Flask and Django.\n",
    "# The web development uses HTML and CSS for rendering but Python helps in adding the visual elements to the code, user accounts, driving functionalities, etc.\n",
    "\n",
    "# 5. Software Development\n",
    "# Software Development also uses Python to develop desktop apps.\n",
    "# There are several real-time applications like Dropbox and Spotify that use Python for the web and desktop apps."
   ]
  }
 ],
 "metadata": {
  "kernelspec": {
   "display_name": "Python 3 (ipykernel)",
   "language": "python",
   "name": "python3"
  },
  "language_info": {
   "codemirror_mode": {
    "name": "ipython",
    "version": 3
   },
   "file_extension": ".py",
   "mimetype": "text/x-python",
   "name": "python",
   "nbconvert_exporter": "python",
   "pygments_lexer": "ipython3",
   "version": "3.9.7"
  }
 },
 "nbformat": 4,
 "nbformat_minor": 5
}
